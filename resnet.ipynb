{
 "cells": [
  {
   "cell_type": "code",
   "execution_count": 10,
   "metadata": {
    "collapsed": true
   },
   "outputs": [],
   "source": [
    "import numpy as np\n",
    "import pandas as pd\n",
    "import theano\n",
    "from keras.models import Sequential,Model\n",
    "from keras.layers import Dropout ,Activation,AveragePooling2D, normalization,Convolution2D,MaxPooling2D\n",
    "from keras.layers import Dense, Flatten, Reshape, Input\n",
    "from keras.layers.merge import add\n",
    "from keras import optimizers\n",
    "from keras.utils import np_utils\n",
    "from matplotlib import pyplot as plt\n",
    "%matplotlib inline"
   ]
  },
  {
   "cell_type": "code",
   "execution_count": 2,
   "metadata": {
    "collapsed": true
   },
   "outputs": [],
   "source": [
    "x = pd.read_csv('/home/vasu/all_projects/ML/MNIST/mnist_kaggle/train.csv')"
   ]
  },
  {
   "cell_type": "code",
   "execution_count": 3,
   "metadata": {},
   "outputs": [
    {
     "name": "stdout",
     "output_type": "stream",
     "text": [
      "(42000, 784) (42000,)\n"
     ]
    }
   ],
   "source": [
    "X = np.array(x)\n",
    "x = X[:,1:]\n",
    "y = X[:,0]\n",
    "print x.shape,y.shape"
   ]
  },
  {
   "cell_type": "code",
   "execution_count": 4,
   "metadata": {
    "collapsed": true
   },
   "outputs": [],
   "source": [
    "x = x/255.0"
   ]
  },
  {
   "cell_type": "code",
   "execution_count": 5,
   "metadata": {
    "collapsed": true
   },
   "outputs": [],
   "source": [
    "x = x.reshape((X.shape[0], 28, 28,1))\n",
    "y = np_utils.to_categorical(y)"
   ]
  },
  {
   "cell_type": "code",
   "execution_count": 6,
   "metadata": {},
   "outputs": [
    {
     "name": "stdout",
     "output_type": "stream",
     "text": [
      "____________________________________________________________________________________________________\n",
      "Layer (type)                     Output Shape          Param #     Connected to                     \n",
      "====================================================================================================\n",
      "input_1 (InputLayer)             (None, 28, 28, 1)     0                                            \n",
      "____________________________________________________________________________________________________\n",
      "conv2d_1 (Conv2D)                (None, 26, 26, 32)    320         input_1[0][0]                    \n",
      "____________________________________________________________________________________________________\n",
      "activation_1 (Activation)        (None, 26, 26, 32)    0           conv2d_1[0][0]                   \n",
      "____________________________________________________________________________________________________\n",
      "conv2d_2 (Conv2D)                (None, 26, 26, 32)    9248        activation_1[0][0]               \n",
      "____________________________________________________________________________________________________\n",
      "activation_2 (Activation)        (None, 26, 26, 32)    0           conv2d_2[0][0]                   \n",
      "____________________________________________________________________________________________________\n",
      "dropout_1 (Dropout)              (None, 26, 26, 32)    0           activation_2[0][0]               \n",
      "____________________________________________________________________________________________________\n",
      "conv2d_3 (Conv2D)                (None, 26, 26, 32)    9248        dropout_1[0][0]                  \n",
      "____________________________________________________________________________________________________\n",
      "add_1 (Add)                      (None, 26, 26, 32)    0           conv2d_1[0][0]                   \n",
      "                                                                   conv2d_3[0][0]                   \n",
      "____________________________________________________________________________________________________\n",
      "conv2d_4 (Conv2D)                (None, 24, 24, 16)    4624        add_1[0][0]                      \n",
      "____________________________________________________________________________________________________\n",
      "activation_3 (Activation)        (None, 24, 24, 16)    0           conv2d_4[0][0]                   \n",
      "____________________________________________________________________________________________________\n",
      "conv2d_5 (Conv2D)                (None, 24, 24, 16)    2320        activation_3[0][0]               \n",
      "____________________________________________________________________________________________________\n",
      "activation_4 (Activation)        (None, 24, 24, 16)    0           conv2d_5[0][0]                   \n",
      "____________________________________________________________________________________________________\n",
      "dropout_2 (Dropout)              (None, 24, 24, 16)    0           activation_4[0][0]               \n",
      "____________________________________________________________________________________________________\n",
      "conv2d_6 (Conv2D)                (None, 24, 24, 16)    2320        dropout_2[0][0]                  \n",
      "____________________________________________________________________________________________________\n",
      "add_2 (Add)                      (None, 24, 24, 16)    0           conv2d_4[0][0]                   \n",
      "                                                                   conv2d_6[0][0]                   \n",
      "____________________________________________________________________________________________________\n",
      "conv2d_7 (Conv2D)                (None, 22, 22, 8)     1160        add_2[0][0]                      \n",
      "____________________________________________________________________________________________________\n",
      "activation_5 (Activation)        (None, 22, 22, 8)     0           conv2d_7[0][0]                   \n",
      "____________________________________________________________________________________________________\n",
      "max_pooling2d_1 (MaxPooling2D)   (None, 11, 11, 8)     0           activation_5[0][0]               \n",
      "____________________________________________________________________________________________________\n",
      "flatten_1 (Flatten)              (None, 968)           0           max_pooling2d_1[0][0]            \n",
      "____________________________________________________________________________________________________\n",
      "dense_1 (Dense)                  (None, 32)            31008       flatten_1[0][0]                  \n",
      "____________________________________________________________________________________________________\n",
      "activation_6 (Activation)        (None, 32)            0           dense_1[0][0]                    \n",
      "____________________________________________________________________________________________________\n",
      "dense_2 (Dense)                  (None, 10)            330         activation_6[0][0]               \n",
      "____________________________________________________________________________________________________\n",
      "activation_7 (Activation)        (None, 10)            0           dense_2[0][0]                    \n",
      "====================================================================================================\n",
      "Total params: 60,578\n",
      "Trainable params: 60,578\n",
      "Non-trainable params: 0\n",
      "____________________________________________________________________________________________________\n"
     ]
    }
   ],
   "source": [
    "inp = Input(shape=(28,28,1))\n",
    "x1 = Convolution2D( 32,(3,3))(inp)\n",
    "\n",
    "r1_a1 = Activation('relu')(x1)\n",
    "r1_w1 = Convolution2D(32,( 3,3),padding='same')(r1_a1)\n",
    "r1_a2 = Activation('relu')(r1_w1)\n",
    "r1_d1 = Dropout(0.2)(r1_a2)\n",
    "r1_w2 = Convolution2D(32,( 3,3),padding='same')(r1_d1)\n",
    "out1 = add([x1, r1_w2])\n",
    "\n",
    "x2 = Convolution2D(16,( 3,3))(out1)\n",
    "\n",
    "r2_a1 = Activation('relu')(x2)\n",
    "r2_w1 = Convolution2D(16,( 3,3),padding='same')(r2_a1)\n",
    "r2_a2 = Activation('relu')(r2_w1)\n",
    "r2_d1 = Dropout(0.2)(r2_a2)\n",
    "r2_w2 = Convolution2D(16,( 3,3),padding='same')(r2_d1)\n",
    "out2 = add([x2, r2_w2])\n",
    "\n",
    "x3 = Convolution2D(8,( 3,3))(out2)\n",
    "acti = Activation('relu')(x3)\n",
    "av_pool = MaxPooling2D((2,2))((acti))\n",
    "f1 = Flatten()(av_pool)\n",
    "fc1 = Dense(32)(f1)\n",
    "a1 = Activation('relu')(fc1)\n",
    "fc3 = Dense(10)(a1)\n",
    "a3 = Activation('softmax')(fc3)\n",
    "\n",
    "model = Model(outputs=a3, inputs=inp)\n",
    "model.summary()"
   ]
  },
  {
   "cell_type": "code",
   "execution_count": 7,
   "metadata": {
    "collapsed": true
   },
   "outputs": [],
   "source": [
    "model.compile(loss='categorical_crossentropy', optimizer='adam', metrics=['accuracy'])"
   ]
  },
  {
   "cell_type": "code",
   "execution_count": 8,
   "metadata": {},
   "outputs": [
    {
     "name": "stdout",
     "output_type": "stream",
     "text": [
      "Train on 33600 samples, validate on 8400 samples\n",
      "Epoch 1/20\n",
      "33600/33600 [==============================] - 144s - loss: 0.4299 - acc: 0.8648 - val_loss: 0.1331 - val_acc: 0.9586\n",
      "Epoch 2/20\n",
      "33600/33600 [==============================] - 135s - loss: 0.1131 - acc: 0.9668 - val_loss: 0.0805 - val_acc: 0.9749\n",
      "Epoch 3/20\n",
      "33600/33600 [==============================] - 135s - loss: 0.0798 - acc: 0.9760 - val_loss: 0.0708 - val_acc: 0.9762\n",
      "Epoch 4/20\n",
      "33600/33600 [==============================] - 135s - loss: 0.0620 - acc: 0.9808 - val_loss: 0.0592 - val_acc: 0.9821\n",
      "Epoch 5/20\n",
      "33600/33600 [==============================] - 135s - loss: 0.0497 - acc: 0.9843 - val_loss: 0.0586 - val_acc: 0.9813\n",
      "Epoch 6/20\n",
      "33600/33600 [==============================] - 135s - loss: 0.0437 - acc: 0.9861 - val_loss: 0.0647 - val_acc: 0.9813\n",
      "Epoch 7/20\n",
      "33600/33600 [==============================] - 135s - loss: 0.0377 - acc: 0.9882 - val_loss: 0.0585 - val_acc: 0.9827\n",
      "Epoch 8/20\n",
      "33600/33600 [==============================] - 135s - loss: 0.0363 - acc: 0.9884 - val_loss: 0.0495 - val_acc: 0.9846\n",
      "Epoch 9/20\n",
      "33600/33600 [==============================] - 136s - loss: 0.0309 - acc: 0.9902 - val_loss: 0.0468 - val_acc: 0.9862\n",
      "Epoch 10/20\n",
      "33600/33600 [==============================] - 138s - loss: 0.0235 - acc: 0.9921 - val_loss: 0.0654 - val_acc: 0.9814\n",
      "Epoch 11/20\n",
      "33600/33600 [==============================] - 154s - loss: 0.0249 - acc: 0.9915 - val_loss: 0.0482 - val_acc: 0.9867\n",
      "Epoch 12/20\n",
      "33600/33600 [==============================] - 154s - loss: 0.0210 - acc: 0.9935 - val_loss: 0.0536 - val_acc: 0.9855\n",
      "Epoch 13/20\n",
      "33600/33600 [==============================] - 154s - loss: 0.0178 - acc: 0.9940 - val_loss: 0.0517 - val_acc: 0.9856\n",
      "Epoch 14/20\n",
      "33600/33600 [==============================] - 156s - loss: 0.0157 - acc: 0.9952 - val_loss: 0.0517 - val_acc: 0.9870\n",
      "Epoch 15/20\n",
      "33600/33600 [==============================] - 154s - loss: 0.0164 - acc: 0.9940 - val_loss: 0.0584 - val_acc: 0.9862\n",
      "Epoch 16/20\n",
      "33600/33600 [==============================] - 157s - loss: 0.0154 - acc: 0.9947 - val_loss: 0.0557 - val_acc: 0.9856\n",
      "Epoch 17/20\n",
      "33600/33600 [==============================] - 154s - loss: 0.0139 - acc: 0.9951 - val_loss: 0.0559 - val_acc: 0.9868\n",
      "Epoch 18/20\n",
      "33600/33600 [==============================] - 157s - loss: 0.0116 - acc: 0.9961 - val_loss: 0.0559 - val_acc: 0.9854\n",
      "Epoch 19/20\n",
      "33600/33600 [==============================] - 156s - loss: 0.0112 - acc: 0.9962 - val_loss: 0.0512 - val_acc: 0.9876\n",
      "Epoch 20/20\n",
      "33600/33600 [==============================] - 155s - loss: 0.0126 - acc: 0.9956 - val_loss: 0.0600 - val_acc: 0.9854\n"
     ]
    }
   ],
   "source": [
    "hist = model.fit(x, y,epochs = 20,shuffle=True,batch_size=256,validation_split=0.20)"
   ]
  },
  {
   "cell_type": "code",
   "execution_count": 12,
   "metadata": {},
   "outputs": [
    {
     "data": {
      "text/plain": [
       "[<matplotlib.lines.Line2D at 0x7fde062695d0>]"
      ]
     },
     "execution_count": 12,
     "metadata": {},
     "output_type": "execute_result"
    },
    {
     "data": {
      "image/png": "[encoded data removed]",
      "text/plain": [
       "<matplotlib.figure.Figure at 0x7fde09b77110>"
      ]
     },
     "metadata": {},
     "output_type": "display_data"
    }
   ],
   "source": [
    "plt.plot(hist.history['acc'])\n",
    "plt.plot(hist.history['val_acc'])\n",
    "plt.plot(hist.history['loss'])\n",
    "plt.plot(hist.history['val_loss'])"
   ]
  }
 ],
 "metadata": {
  "kernelspec": {
   "display_name": "Python 2",
   "language": "python",
   "name": "python2"
  },
  "language_info": {
   "codemirror_mode": {
    "name": "ipython",
    "version": 2
   },
   "file_extension": ".py",
   "mimetype": "text/x-python",
   "name": "python",
   "nbconvert_exporter": "python",
   "pygments_lexer": "ipython2",
   "version": "2.7.12"
  }
 },
 "nbformat": 4,
 "nbformat_minor": 2
}
