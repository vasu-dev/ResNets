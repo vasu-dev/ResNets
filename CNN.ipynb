{
 "cells": [
  {
   "cell_type": "code",
   "execution_count": 1,
   "metadata": {},
   "outputs": [
    {
     "name": "stderr",
     "output_type": "stream",
     "text": [
      "WARNING (theano.sandbox.cuda): The cuda backend is deprecated and will be removed in the next release (v0.10).  Please switch to the gpuarray backend. You can get more information about how to switch at this URL:\n",
      " https://github.com/Theano/Theano/wiki/Converting-to-the-new-gpu-back-end%28gpuarray%29\n",
      "\n",
      "Using gpu device 0: GeForce 920M (CNMeM is disabled, cuDNN 5005)\n",
      "Using Theano backend.\n"
     ]
    }
   ],
   "source": [
    "import numpy as np\n",
    "import pandas as pd\n",
    "import theano\n",
    "from keras.models import Sequential,Model\n",
    "from keras.layers import Dropout ,Activation,AveragePooling2D, normalization,Convolution2D,MaxPooling2D\n",
    "from keras.layers import Dense, Flatten, Reshape, Input\n",
    "from keras.layers.merge import add\n",
    "from keras import optimizers\n",
    "from keras.utils import np_utils\n",
    "from matplotlib import pyplot as plt\n",
    "%matplotlib inline"
   ]
  },
  {
   "cell_type": "code",
   "execution_count": 2,
   "metadata": {
    "collapsed": true
   },
   "outputs": [],
   "source": [
    "x = pd.read_csv('/home/vasu/all_projects/ML/MNIST/mnist_kaggle/train.csv')"
   ]
  },
  {
   "cell_type": "code",
   "execution_count": 3,
   "metadata": {},
   "outputs": [
    {
     "name": "stdout",
     "output_type": "stream",
     "text": [
      "(42000, 784) (42000,)\n"
     ]
    }
   ],
   "source": [
    "X = np.array(x)\n",
    "x = X[:,1:]\n",
    "y = X[:,0]\n",
    "print x.shape,y.shape"
   ]
  },
  {
   "cell_type": "code",
   "execution_count": 4,
   "metadata": {
    "collapsed": true
   },
   "outputs": [],
   "source": [
    "x = x/255.0"
   ]
  },
  {
   "cell_type": "code",
   "execution_count": 5,
   "metadata": {
    "collapsed": true
   },
   "outputs": [],
   "source": [
    "x = x.reshape((X.shape[0], 28, 28,1))\n",
    "y = np_utils.to_categorical(y)"
   ]
  },
  {
   "cell_type": "code",
   "execution_count": 6,
   "metadata": {},
   "outputs": [
    {
     "name": "stdout",
     "output_type": "stream",
     "text": [
      "_________________________________________________________________\n",
      "Layer (type)                 Output Shape              Param #   \n",
      "=================================================================\n",
      "input_1 (InputLayer)         (None, 28, 28, 1)         0         \n",
      "_________________________________________________________________\n",
      "conv2d_1 (Conv2D)            (None, 26, 26, 32)        320       \n",
      "_________________________________________________________________\n",
      "activation_1 (Activation)    (None, 26, 26, 32)        0         \n",
      "_________________________________________________________________\n",
      "conv2d_2 (Conv2D)            (None, 26, 26, 32)        9248      \n",
      "_________________________________________________________________\n",
      "activation_2 (Activation)    (None, 26, 26, 32)        0         \n",
      "_________________________________________________________________\n",
      "dropout_1 (Dropout)          (None, 26, 26, 32)        0         \n",
      "_________________________________________________________________\n",
      "conv2d_3 (Conv2D)            (None, 26, 26, 32)        9248      \n",
      "_________________________________________________________________\n",
      "conv2d_4 (Conv2D)            (None, 24, 24, 16)        4624      \n",
      "_________________________________________________________________\n",
      "activation_3 (Activation)    (None, 24, 24, 16)        0         \n",
      "_________________________________________________________________\n",
      "conv2d_5 (Conv2D)            (None, 24, 24, 16)        2320      \n",
      "_________________________________________________________________\n",
      "activation_4 (Activation)    (None, 24, 24, 16)        0         \n",
      "_________________________________________________________________\n",
      "dropout_2 (Dropout)          (None, 24, 24, 16)        0         \n",
      "_________________________________________________________________\n",
      "conv2d_6 (Conv2D)            (None, 24, 24, 16)        2320      \n",
      "_________________________________________________________________\n",
      "conv2d_7 (Conv2D)            (None, 22, 22, 8)         1160      \n",
      "_________________________________________________________________\n",
      "activation_5 (Activation)    (None, 22, 22, 8)         0         \n",
      "_________________________________________________________________\n",
      "max_pooling2d_1 (MaxPooling2 (None, 11, 11, 8)         0         \n",
      "_________________________________________________________________\n",
      "flatten_1 (Flatten)          (None, 968)               0         \n",
      "_________________________________________________________________\n",
      "dense_1 (Dense)              (None, 32)                31008     \n",
      "_________________________________________________________________\n",
      "activation_6 (Activation)    (None, 32)                0         \n",
      "_________________________________________________________________\n",
      "dense_2 (Dense)              (None, 10)                330       \n",
      "_________________________________________________________________\n",
      "activation_7 (Activation)    (None, 10)                0         \n",
      "=================================================================\n",
      "Total params: 60,578\n",
      "Trainable params: 60,578\n",
      "Non-trainable params: 0\n",
      "_________________________________________________________________\n"
     ]
    }
   ],
   "source": [
    "inp = Input(shape=(28,28,1))\n",
    "x1 = Convolution2D( 32,(3,3))(inp)\n",
    "\n",
    "r1_a1 = Activation('relu')(x1)\n",
    "r1_w1 = Convolution2D(32,( 3,3),padding='same')(r1_a1)\n",
    "r1_a2 = Activation('relu')(r1_w1)\n",
    "r1_d1 = Dropout(0.2)(r1_a2)\n",
    "r1_w2 = Convolution2D(32,( 3,3),padding='same')(r1_d1)\n",
    "\n",
    "x2 = Convolution2D(16,( 3,3))(r1_w2)\n",
    "\n",
    "r2_a1 = Activation('relu')(x2)\n",
    "r2_w1 = Convolution2D(16,( 3,3),padding='same')(r2_a1)\n",
    "r2_a2 = Activation('relu')(r2_w1)\n",
    "r2_d1 = Dropout(0.2)(r2_a2)\n",
    "r2_w2 = Convolution2D(16,( 3,3),padding='same')(r2_d1)\n",
    "\n",
    "x3 = Convolution2D(8,( 3,3))(r2_w2)\n",
    "acti = Activation('relu')(x3)\n",
    "av_pool = MaxPooling2D((2,2))((acti))\n",
    "f1 = Flatten()(av_pool)\n",
    "fc1 = Dense(32)(f1)\n",
    "a1 = Activation('relu')(fc1)\n",
    "fc3 = Dense(10)(a1)\n",
    "a3 = Activation('softmax')(fc3)\n",
    "\n",
    "model = Model(outputs=a3, inputs=inp)\n",
    "model.summary()"
   ]
  },
  {
   "cell_type": "code",
   "execution_count": 7,
   "metadata": {
    "collapsed": true
   },
   "outputs": [],
   "source": [
    "model.compile(loss='categorical_crossentropy', optimizer='adam', metrics=['accuracy'])"
   ]
  },
  {
   "cell_type": "code",
   "execution_count": 8,
   "metadata": {},
   "outputs": [
    {
     "name": "stdout",
     "output_type": "stream",
     "text": [
      "Train on 33600 samples, validate on 8400 samples\n",
      "Epoch 1/20\n",
      "33600/33600 [==============================] - 136s - loss: 0.5397 - acc: 0.8286 - val_loss: 0.1391 - val_acc: 0.9575\n",
      "Epoch 2/20\n",
      "33600/33600 [==============================] - 135s - loss: 0.1317 - acc: 0.9610 - val_loss: 0.1060 - val_acc: 0.9651\n",
      "Epoch 3/20\n",
      "33600/33600 [==============================] - 130s - loss: 0.0879 - acc: 0.9739 - val_loss: 0.0657 - val_acc: 0.9787\n",
      "Epoch 4/20\n",
      "33600/33600 [==============================] - 132s - loss: 0.0661 - acc: 0.9804 - val_loss: 0.0600 - val_acc: 0.9789\n",
      "Epoch 5/20\n",
      "33600/33600 [==============================] - 130s - loss: 0.0558 - acc: 0.9835 - val_loss: 0.0545 - val_acc: 0.9824\n",
      "Epoch 6/20\n",
      "33600/33600 [==============================] - 136s - loss: 0.0508 - acc: 0.9844 - val_loss: 0.0473 - val_acc: 0.9842\n",
      "Epoch 7/20\n",
      "33600/33600 [==============================] - 131s - loss: 0.0428 - acc: 0.9862 - val_loss: 0.0533 - val_acc: 0.9826\n",
      "Epoch 8/20\n",
      "33600/33600 [==============================] - 130s - loss: 0.0388 - acc: 0.9883 - val_loss: 0.0502 - val_acc: 0.9830\n",
      "Epoch 9/20\n",
      "33600/33600 [==============================] - 130s - loss: 0.0362 - acc: 0.9887 - val_loss: 0.0505 - val_acc: 0.9835\n",
      "Epoch 10/20\n",
      "33600/33600 [==============================] - 132s - loss: 0.0302 - acc: 0.9904 - val_loss: 0.0432 - val_acc: 0.9869\n",
      "Epoch 11/20\n",
      "33600/33600 [==============================] - 131s - loss: 0.0316 - acc: 0.9899 - val_loss: 0.0489 - val_acc: 0.9851\n",
      "Epoch 12/20\n",
      "33600/33600 [==============================] - 138s - loss: 0.0265 - acc: 0.9910 - val_loss: 0.0553 - val_acc: 0.9842\n",
      "Epoch 13/20\n",
      "33600/33600 [==============================] - 133s - loss: 0.0246 - acc: 0.9919 - val_loss: 0.0457 - val_acc: 0.9869\n",
      "Epoch 14/20\n",
      "33600/33600 [==============================] - 136s - loss: 0.0215 - acc: 0.9926 - val_loss: 0.0462 - val_acc: 0.9860\n",
      "Epoch 15/20\n",
      "33600/33600 [==============================] - 134s - loss: 0.0219 - acc: 0.9924 - val_loss: 0.0481 - val_acc: 0.9875\n",
      "Epoch 16/20\n",
      "33600/33600 [==============================] - 130s - loss: 0.0203 - acc: 0.9931 - val_loss: 0.0428 - val_acc: 0.9881\n",
      "Epoch 17/20\n",
      "33600/33600 [==============================] - 130s - loss: 0.0184 - acc: 0.9937 - val_loss: 0.0506 - val_acc: 0.9871\n",
      "Epoch 18/20\n",
      "33600/33600 [==============================] - 130s - loss: 0.0202 - acc: 0.9929 - val_loss: 0.0518 - val_acc: 0.9851\n",
      "Epoch 19/20\n",
      "33600/33600 [==============================] - 130s - loss: 0.0178 - acc: 0.9940 - val_loss: 0.0461 - val_acc: 0.9865\n",
      "Epoch 20/20\n",
      "33600/33600 [==============================] - 130s - loss: 0.0175 - acc: 0.9941 - val_loss: 0.0477 - val_acc: 0.9868\n"
     ]
    }
   ],
   "source": [
    "hist = model.fit(x, y,epochs = 20,shuffle=True,batch_size=256,validation_split=0.20)"
   ]
  },
  {
   "cell_type": "code",
   "execution_count": 9,
   "metadata": {},
   "outputs": [
    {
     "data": {
      "text/plain": [
       "[<matplotlib.lines.Line2D at 0x7fa14eaa87d0>]"
      ]
     },
     "execution_count": 9,
     "metadata": {},
     "output_type": "execute_result"
    },
    {
     "data": {
      "image/png": "[encoded data removed]",
      "text/plain": [
       "<matplotlib.figure.Figure at 0x7fa155c5a9d0>"
      ]
     },
     "metadata": {},
     "output_type": "display_data"
    }
   ],
   "source": [
    "plt.plot(hist.history['acc'])\n",
    "plt.plot(hist.history['val_acc'])\n",
    "plt.plot(hist.history['loss'])\n",
    "plt.plot(hist.history['val_loss'])"
   ]
  }
 ],
 "metadata": {
  "kernelspec": {
   "display_name": "Python 2",
   "language": "python",
   "name": "python2"
  },
  "language_info": {
   "codemirror_mode": {
    "name": "ipython",
    "version": 2
   },
   "file_extension": ".py",
   "mimetype": "text/x-python",
   "name": "python",
   "nbconvert_exporter": "python",
   "pygments_lexer": "ipython2",
   "version": "2.7.12"
  }
 },
 "nbformat": 4,
 "nbformat_minor": 2
}
